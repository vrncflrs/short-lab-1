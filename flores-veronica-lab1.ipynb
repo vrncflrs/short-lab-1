{
 "cells": [
  {
   "cell_type": "markdown",
   "metadata": {},
   "source": [
    "**182016**\n",
    "<br>\n",
    "Flores\n",
    "<br>\n",
    "3 BS ITE"
   ]
  },
  {
   "cell_type": "markdown",
   "metadata": {},
   "source": [
    "# Problem 1\n",
    "\n",
    "Write a program that accepts an amount in US Dollars and converts to Philippine Pesos."
   ]
  },
  {
   "cell_type": "code",
   "execution_count": 3,
   "metadata": {},
   "outputs": [
    {
     "name": "stdout",
     "output_type": "stream",
     "text": [
      "US Dollars to Philippine Pesos Converter\n",
      "Enter the amount in US Dollars: 30\n",
      "\n",
      "30 US Dollar(s) = 1500 Philippine Pesos\n"
     ]
    }
   ],
   "source": [
    "def dollars_to_pesos(x):\n",
    "    pesoz = x*50\n",
    "    return pesoz\n",
    "\n",
    "print('US Dollars to Philippine Pesos Converter')\n",
    "dollarz = int(input('Enter the amount in US Dollars: '))\n",
    "\n",
    "converted = dollars_to_pesos(dollarz)\n",
    "\n",
    "print('')\n",
    "print(dollarz,'US Dollar(s)','=',converted,'Philippine Pesos')"
   ]
  },
  {
   "cell_type": "markdown",
   "metadata": {},
   "source": [
    "# Problem 2\n",
    "\n",
    "Write a program that accepts two positive integers, a and b, one per line."
   ]
  },
  {
   "cell_type": "code",
   "execution_count": 6,
   "metadata": {},
   "outputs": [
    {
     "name": "stdout",
     "output_type": "stream",
     "text": [
      "Arithmetic Time\n",
      "value of a: 4\n",
      "value of b: 4\n",
      "\n",
      "\n",
      "given: a = 4 b = 4\n",
      "a + b = 8\n",
      "a - b = 0\n",
      "a * b = 16\n",
      "a / b = 1\n",
      "a % b = 0\n"
     ]
    }
   ],
   "source": [
    "##with functions\n",
    "\n",
    "def do_sum(x,y):\n",
    "    addition = x + y\n",
    "    return addition\n",
    "\n",
    "def do_sub(x,y):\n",
    "    subtraction = x - y\n",
    "    return subtraction\n",
    "\n",
    "def do_times(x,y):\n",
    "    multiplication = x * y\n",
    "    return multiplication\n",
    "\n",
    "def do_div(x,y):\n",
    "    division = int(x / y)\n",
    "    return division\n",
    "\n",
    "def do_mod(x,y):\n",
    "    moduloe = x % y\n",
    "    return moduloe\n",
    "\n",
    "print('Arithmetic Time')\n",
    "a = int(input('value of a: '))\n",
    "b = int(input('value of b: '))\n",
    "\n",
    "addz = do_sum(a,b)\n",
    "subz = do_sub(a,b)\n",
    "timez = do_times(a,b)\n",
    "div = do_div(a,b)\n",
    "modz = do_mod(a,b)\n",
    "print('')\n",
    "print('')\n",
    "print('given: a =',a,'b =',b)\n",
    "print('a + b =',addz)\n",
    "print('a - b =',subz)\n",
    "print('a * b =',timez)\n",
    "print('a / b =',div)\n",
    "print('a % b =',modz)"
   ]
  },
  {
   "cell_type": "code",
   "execution_count": 9,
   "metadata": {},
   "outputs": [
    {
     "name": "stdout",
     "output_type": "stream",
     "text": [
      "value of a: 2\n",
      "value of b: 2\n",
      "\n",
      "\n",
      "given: a = 2 b = 2\n",
      "a + b = 4\n",
      "a - b = 0\n",
      "a * b = 4\n",
      "a / b = 1.0\n",
      "a % b = 0\n"
     ]
    }
   ],
   "source": [
    "##no functions\n",
    "\n",
    "a = int(input('value of a: '))\n",
    "b = int(input('value of b: '))\n",
    "\n",
    "addz = a + b\n",
    "subz = a - b\n",
    "timez = a * b\n",
    "div = a / b\n",
    "modz = a % b\n",
    "print('')\n",
    "print('')\n",
    "print('given: a =',a,'b =',b)\n",
    "print('a + b =',addz)\n",
    "print('a - b =',subz)\n",
    "print('a * b =',timez)\n",
    "print('a / b =',div)\n",
    "print('a % b =',modz)"
   ]
  },
  {
   "cell_type": "markdown",
   "metadata": {},
   "source": [
    "# Problem 3\n",
    "\n",
    "Write a program that computes for your Body Mass Index (BMI)"
   ]
  },
  {
   "cell_type": "code",
   "execution_count": 2,
   "metadata": {},
   "outputs": [
    {
     "name": "stdout",
     "output_type": "stream",
     "text": [
      "BMI Calculator :>\n",
      "Enter weight in kg: 50\n",
      "Enter weight in cm: 170\n",
      "BMI:  17.301038062283737\n"
     ]
    }
   ],
   "source": [
    "def convert_cm_to_m(m):\n",
    "    meters = m*0.01\n",
    "    return meters\n",
    "\n",
    "def compute_bmi(kg,m):\n",
    "    bmi = kg/(m**2)\n",
    "    return bmi\n",
    "\n",
    "print('BMI Calculator :>')\n",
    "\n",
    "weight = int(input('Enter weight in kg: '))\n",
    "height = int(input('Enter weight in cm: '))\n",
    "          \n",
    "m = convert_cm_to_m(height)\n",
    "bmi = compute_bmi(weight,m)\n",
    "\n",
    "print('BMI: ',bmi)"
   ]
  },
  {
   "cell_type": "code",
   "execution_count": null,
   "metadata": {},
   "outputs": [],
   "source": []
  }
 ],
 "metadata": {
  "kernelspec": {
   "display_name": "Python 3",
   "language": "python",
   "name": "python3"
  },
  "language_info": {
   "codemirror_mode": {
    "name": "ipython",
    "version": 3
   },
   "file_extension": ".py",
   "mimetype": "text/x-python",
   "name": "python",
   "nbconvert_exporter": "python",
   "pygments_lexer": "ipython3",
   "version": "3.8.3"
  }
 },
 "nbformat": 4,
 "nbformat_minor": 4
}
